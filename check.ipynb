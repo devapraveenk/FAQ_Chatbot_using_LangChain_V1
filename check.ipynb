{
 "cells": [
  {
   "cell_type": "code",
   "execution_count": 3,
   "metadata": {},
   "outputs": [],
   "source": [
    "from langchain.llms import GooglePalm\n",
    "api_key=\"Your_GooglePaLM_API_key\"\n",
    "llm=GooglePalm(google_api_key=api_key,temperature=0.2)"
   ]
  },
  {
   "cell_type": "code",
   "execution_count": 4,
   "metadata": {},
   "outputs": [],
   "source": [
    "test=llm(\"how is the weather\")"
   ]
  },
  {
   "cell_type": "code",
   "execution_count": 5,
   "metadata": {},
   "outputs": [
    {
     "name": "stdout",
     "output_type": "stream",
     "text": [
      "35 °F, partly cloudy\n"
     ]
    }
   ],
   "source": [
    "print(test)"
   ]
  },
  {
   "cell_type": "code",
   "execution_count": 6,
   "metadata": {},
   "outputs": [],
   "source": [
    "from langchain.document_loaders import CSVLoader\n",
    "loader=CSVLoader(file_path='FAQ.csv',source_column='Prompt')\n",
    "data = loader.load()"
   ]
  },
  {
   "cell_type": "code",
   "execution_count": 7,
   "metadata": {},
   "outputs": [
    {
     "data": {
      "text/plain": [
       "[Document(page_content='Prompt: How do I exchange my existing commercial vehicle?\\nanswer: To exchange your commercial vehicle click on the Exchange button in the Navigational Menu Bar. \\r\\nClicking on the exchange button leads to the TATA OK page which helps in buying, \\r\\nselling or exchanging commercial vehicles of any make, model or vintage.', metadata={'source': 'How do I exchange my existing commercial vehicle?', 'row': 0}),\n",
       " Document(page_content='Prompt: How do I get to know the final offer price after I have booked my vehicle?\\nanswer: The booking amount paid by you Is used to simply reserve the vehicle in your name. The final offer price is communicated by the dealer.', metadata={'source': 'How do I get to know the final offer price after I have booked my vehicle?', 'row': 1}),\n",
       " Document(page_content='Prompt: How do I know my booking has been confirmed?\\nanswer: Once you have completed the payment, you will receive a Thank You message confirming your payment. \\r\\nThis denotes that your preferred commercial vehicle has been booked', metadata={'source': 'How do I know my booking has been confirmed?', 'row': 2}),\n",
       " Document(page_content='Prompt: Where can I watch a video to learn more about the booking process?\\nanswer: The Help and Booking Guide buttons are present on the top right hand corner of the screen at all times.\\r\\n Click on the Booking Guide button to watch a video that explains the booking process in detail.', metadata={'source': 'Where can I watch a video to learn more about the booking process?', 'row': 3}),\n",
       " Document(page_content='Prompt: How do I calculate the EMI for the commercial vehicle I want to buy?\\nanswer: Once you have opened a vehicle page, you can scroll below the ‘Specifications’ section and the Video section to view the EMI Calculator section. \\r\\nUse the sliders present for various parameters such as ‘Loan amount’, ‘Rate of Interest’ and ‘Loan Tenure’ to calculate the \\r\\nEMI you will need to pay for your preferred commercial vehicle.', metadata={'source': 'How do I calculate the EMI for the commercial vehicle I want to buy?', 'row': 4}),\n",
       " Document(page_content='Prompt: What is the maximum price of the car\\nanswer: one core', metadata={'source': 'What is the maximum price of the car', 'row': 5}),\n",
       " Document(page_content='Prompt: What is the minimum price of the car\\nanswer: ten lakh', metadata={'source': 'What is the minimum price of the car', 'row': 6}),\n",
       " Document(page_content='Prompt: who is the programmer of the web portal\\nanswer: Unknown coder', metadata={'source': 'who is the programmer of the web portal', 'row': 7}),\n",
       " Document(page_content='Prompt: which year the sell of cars were high\\nanswer: 2019', metadata={'source': 'which year the sell of cars were high', 'row': 8}),\n",
       " Document(page_content='Prompt: when the sales was down\\nanswer: 2020', metadata={'source': 'when the sales was down', 'row': 9}),\n",
       " Document(page_content='Prompt: what is the profit in 2020\\nanswer: 30 thousand core', metadata={'source': 'what is the profit in 2020', 'row': 10}),\n",
       " Document(page_content='Prompt: how much of workers works in the company\\nanswer: around 20000 people', metadata={'source': 'how much of workers works in the company', 'row': 11})]"
      ]
     },
     "execution_count": 7,
     "metadata": {},
     "output_type": "execute_result"
    }
   ],
   "source": [
    "data"
   ]
  },
  {
   "cell_type": "code",
   "execution_count": 8,
   "metadata": {},
   "outputs": [],
   "source": [
    "# %pip install langchain sentence_transformers\n",
    "from langchain.embeddings import HuggingFaceEmbeddings\n",
    "embeddings = HuggingFaceEmbeddings()"
   ]
  },
  {
   "cell_type": "code",
   "execution_count": 9,
   "metadata": {},
   "outputs": [],
   "source": [
    "testembed=embeddings.embed_query('who are you')\n"
   ]
  },
  {
   "cell_type": "code",
   "execution_count": 10,
   "metadata": {},
   "outputs": [
    {
     "data": {
      "text/plain": [
       "768"
      ]
     },
     "execution_count": 10,
     "metadata": {},
     "output_type": "execute_result"
    }
   ],
   "source": [
    "len(testembed)"
   ]
  },
  {
   "cell_type": "code",
   "execution_count": 11,
   "metadata": {},
   "outputs": [
    {
     "data": {
      "text/plain": [
       "list"
      ]
     },
     "execution_count": 11,
     "metadata": {},
     "output_type": "execute_result"
    }
   ],
   "source": [
    "type(testembed)"
   ]
  },
  {
   "cell_type": "code",
   "execution_count": 12,
   "metadata": {},
   "outputs": [
    {
     "name": "stdout",
     "output_type": "stream",
     "text": [
      "[0.07499957084655762, 0.04322311282157898, -0.0005882302648387849, 0.005776368547230959, 0.047345250844955444]\n"
     ]
    }
   ],
   "source": [
    "print(testembed[:5])"
   ]
  },
  {
   "cell_type": "code",
   "execution_count": 13,
   "metadata": {},
   "outputs": [],
   "source": [
    "# %pip install faiss-cpu\n",
    "from langchain.embeddings import HuggingFaceEmbeddings\n",
    "from langchain.vectorstores import FAISS\n",
    "\n",
    "embeddings = HuggingFaceEmbeddings()\n",
    "db = await FAISS.afrom_documents(data, embeddings)\n",
    "\n"
   ]
  },
  {
   "cell_type": "code",
   "execution_count": 14,
   "metadata": {},
   "outputs": [],
   "source": [
    "retriever =db.as_retriever()\n",
    "rdata = retriever.get_relevant_documents (\"I want to exchange my commercial vehicle\")\n",
    "o=rdata"
   ]
  },
  {
   "cell_type": "code",
   "execution_count": 15,
   "metadata": {},
   "outputs": [
    {
     "name": "stdout",
     "output_type": "stream",
     "text": [
      "[Document(page_content='Prompt: How do I exchange my existing commercial vehicle?\\nanswer: To exchange your commercial vehicle click on the Exchange button in the Navigational Menu Bar. \\r\\nClicking on the exchange button leads to the TATA OK page which helps in buying, \\r\\nselling or exchanging commercial vehicles of any make, model or vintage.', metadata={'source': 'How do I exchange my existing commercial vehicle?', 'row': 0}), Document(page_content='Prompt: How do I calculate the EMI for the commercial vehicle I want to buy?\\nanswer: Once you have opened a vehicle page, you can scroll below the ‘Specifications’ section and the Video section to view the EMI Calculator section. \\r\\nUse the sliders present for various parameters such as ‘Loan amount’, ‘Rate of Interest’ and ‘Loan Tenure’ to calculate the \\r\\nEMI you will need to pay for your preferred commercial vehicle.', metadata={'source': 'How do I calculate the EMI for the commercial vehicle I want to buy?', 'row': 4}), Document(page_content='Prompt: What is the minimum price of the car\\nanswer: ten lakh', metadata={'source': 'What is the minimum price of the car', 'row': 6}), Document(page_content='Prompt: How do I know my booking has been confirmed?\\nanswer: Once you have completed the payment, you will receive a Thank You message confirming your payment. \\r\\nThis denotes that your preferred commercial vehicle has been booked', metadata={'source': 'How do I know my booking has been confirmed?', 'row': 2})]\n"
     ]
    }
   ],
   "source": [
    "print(o)"
   ]
  },
  {
   "cell_type": "code",
   "execution_count": 16,
   "metadata": {},
   "outputs": [],
   "source": [
    "from langchain.prompts import PromptTemplate\n",
    "\n",
    "prompt_temp=\"\"\"Given the following context and a question, generate an answer based on this context only.\n",
    "In the answer try to provide as much text as possible from \"response\" section in the source document context without making much changes.\n",
    "if the answer is not found in the context, kindly state \"This Question not Present in My Database.\" Don't try to make up an answer.\n",
    "CONTEXT: {context}\n",
    "QUESTION: {question}\"\"\"\n",
    "PROMPT = PromptTemplate(template=prompt_temp, input_variables=[\"context\", \"question\"])\n"
   ]
  },
  {
   "cell_type": "code",
   "execution_count": 19,
   "metadata": {},
   "outputs": [],
   "source": [
    "from langchain.chains import RetrievalQA\n",
    "chain = RetrievalQA.from_chain_type(llm=llm,chain_type=\"stuff\", retriever=retriever, input_key=\"query\", return_source_documents=False,chain_type_kwargs={\"prompt\" : PROMPT})"
   ]
  },
  {
   "cell_type": "code",
   "execution_count": 20,
   "metadata": {},
   "outputs": [
    {
     "data": {
      "text/plain": [
       "{'query': 'when the sale was high and down',\n",
       " 'result': 'The sales were high in 2019 and down in 2020.'}"
      ]
     },
     "execution_count": 20,
     "metadata": {},
     "output_type": "execute_result"
    }
   ],
   "source": [
    "chain(\"when the sale was high and down\")"
   ]
  },
  {
   "cell_type": "code",
   "execution_count": 148,
   "metadata": {},
   "outputs": [
    {
     "data": {
      "text/plain": [
       "{'query': 'give the profit of this compamy',\n",
       " 'result': '30 thousand core',\n",
       " 'source_documents': [Document(page_content='Prompt: what is the profit in 2020\\nanswer: 30 thousand core', metadata={'source': 'what is the profit in 2020', 'row': 10}),\n",
       "  Document(page_content='Prompt: how much of workers works in the company\\nanswer: around 20000 people', metadata={'source': 'how much of workers works in the company', 'row': 11}),\n",
       "  Document(page_content='Prompt: What is the maximum price of the car\\nanswer: one core', metadata={'source': 'What is the maximum price of the car', 'row': 5}),\n",
       "  Document(page_content='Prompt: when the sales was down\\nanswer: 2020', metadata={'source': 'when the sales was down', 'row': 9})]}"
      ]
     },
     "execution_count": 148,
     "metadata": {},
     "output_type": "execute_result"
    }
   ],
   "source": [
    "chain('give the profit of this compamy')"
   ]
  },
  {
   "cell_type": "code",
   "execution_count": 149,
   "metadata": {},
   "outputs": [
    {
     "data": {
      "text/plain": [
       "{'query': 'which year they got this salray',\n",
       " 'result': 'This Question not Present in My Database.',\n",
       " 'source_documents': [Document(page_content='Prompt: when the sales was down\\nanswer: 2020', metadata={'source': 'when the sales was down', 'row': 9}),\n",
       "  Document(page_content='Prompt: which year the sell of cars were high\\nanswer: 2019', metadata={'source': 'which year the sell of cars were high', 'row': 8}),\n",
       "  Document(page_content='Prompt: what is the profit in 2020\\nanswer: 30 thousand core', metadata={'source': 'what is the profit in 2020', 'row': 10}),\n",
       "  Document(page_content='Prompt: What is the minimum price of the car\\nanswer: ten lakh', metadata={'source': 'What is the minimum price of the car', 'row': 6})]}"
      ]
     },
     "execution_count": 149,
     "metadata": {},
     "output_type": "execute_result"
    }
   ],
   "source": [
    "chain('which year they got this salray')"
   ]
  },
  {
   "cell_type": "code",
   "execution_count": 150,
   "metadata": {},
   "outputs": [
    {
     "data": {
      "text/plain": [
       "{'query': 'what is salary of this company in 2018',\n",
       " 'result': ' This Question not Present in My Database.',\n",
       " 'source_documents': [Document(page_content='Prompt: how much of workers works in the company\\nanswer: around 20000 people', metadata={'source': 'how much of workers works in the company', 'row': 11}),\n",
       "  Document(page_content='Prompt: what is the profit in 2020\\nanswer: 30 thousand core', metadata={'source': 'what is the profit in 2020', 'row': 10}),\n",
       "  Document(page_content='Prompt: which year the sell of cars were high\\nanswer: 2019', metadata={'source': 'which year the sell of cars were high', 'row': 8}),\n",
       "  Document(page_content='Prompt: What is the minimum price of the car\\nanswer: ten lakh', metadata={'source': 'What is the minimum price of the car', 'row': 6})]}"
      ]
     },
     "execution_count": 150,
     "metadata": {},
     "output_type": "execute_result"
    }
   ],
   "source": [
    "chain('what is salary of this company in 2018')"
   ]
  },
  {
   "cell_type": "code",
   "execution_count": 155,
   "metadata": {},
   "outputs": [
    {
     "data": {
      "text/plain": [
       "{'query': 'what is the profit of this company in 2021?',\n",
       " 'result': 'This Question not Present in My Database.',\n",
       " 'source_documents': [Document(page_content='Prompt: what is the profit in 2020\\nanswer: 30 thousand core', metadata={'source': 'what is the profit in 2020', 'row': 10}),\n",
       "  Document(page_content='Prompt: when the sales was down\\nanswer: 2020', metadata={'source': 'when the sales was down', 'row': 9}),\n",
       "  Document(page_content='Prompt: how much of workers works in the company\\nanswer: around 20000 people', metadata={'source': 'how much of workers works in the company', 'row': 11}),\n",
       "  Document(page_content='Prompt: which year the sell of cars were high\\nanswer: 2019', metadata={'source': 'which year the sell of cars were high', 'row': 8})]}"
      ]
     },
     "execution_count": 155,
     "metadata": {},
     "output_type": "execute_result"
    }
   ],
   "source": [
    "chain('what is the profit of this company in 2021?')"
   ]
  }
 ],
 "metadata": {
  "kernelspec": {
   "display_name": ".venv",
   "language": "python",
   "name": "python3"
  },
  "language_info": {
   "codemirror_mode": {
    "name": "ipython",
    "version": 3
   },
   "file_extension": ".py",
   "mimetype": "text/x-python",
   "name": "python",
   "nbconvert_exporter": "python",
   "pygments_lexer": "ipython3",
   "version": "3.10.13"
  }
 },
 "nbformat": 4,
 "nbformat_minor": 2
}
